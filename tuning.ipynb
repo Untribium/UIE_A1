{
 "cells": [
  {
   "cell_type": "code",
   "execution_count": 1,
   "metadata": {
    "collapsed": true
   },
   "outputs": [],
   "source": [
    "import math\n",
    "import numpy as np\n",
    "import pickle\n",
    "%matplotlib inline\n",
    "import matplotlib.pyplot as plt\n",
    "import cv2\n",
    "from scipy.misc import imresize\n",
    "from skimage import feature\n",
    "\n",
    "from sklearn.ensemble import RandomForestClassifier\n",
    "from sklearn.model_selection import RandomizedSearchCV, GridSearchCV\n",
    "from sklearn.feature_selection import SelectKBest"
   ]
  },
  {
   "cell_type": "code",
   "execution_count": 2,
   "metadata": {
    "collapsed": false
   },
   "outputs": [
    {
     "name": "stdout",
     "output_type": "stream",
     "text": [
      "training set: (10000, 4272)\n",
      "test set: (8190, 4272)\n",
      "done\n"
     ]
    }
   ],
   "source": [
    "# load data\n",
    "X_train = pickle.load(open(\"./features/features-train_2.pkl\", 'rb'))\n",
    "print('training set: (%i, %i)' % (X_train.shape[0], X_train.shape[1]))\n",
    "X_test = pickle.load(open(\"./features/features-test_2.pkl\", 'rb'))\n",
    "print('test set: (%i, %i)' % (X_test.shape[0], X_test.shape[1]))\n",
    "\n",
    "Y = pickle.load(open(\"./features/labels-train.pkl\", 'rb'))\n",
    "\n",
    "print('done')"
   ]
  },
  {
   "cell_type": "code",
   "execution_count": null,
   "metadata": {
    "collapsed": true
   },
   "outputs": [],
   "source": []
  },
  {
   "cell_type": "code",
   "execution_count": 6,
   "metadata": {
    "collapsed": false
   },
   "outputs": [
    {
     "name": "stdout",
     "output_type": "stream",
     "text": [
      "Best parameters set found on training set:\n",
      "{'max_depth': 25, 'max_features': 200, 'min_samples_leaf': 2, 'min_samples_split': 4, 'n_estimators': 100}\n",
      "\n",
      "Grid scores:\n",
      "Validation: 0.848 (+/-0.013), Training: 0.994  for {'max_depth': 25, 'max_features': 200, 'min_samples_leaf': 2, 'min_samples_split': 4, 'n_estimators': 100}\n",
      "\n"
     ]
    }
   ],
   "source": [
    "parameters = {\n",
    "        \"max_depth\": [25],\n",
    "        \"max_features\": [200],\n",
    "        \"min_samples_split\": [4],\n",
    "        \"min_samples_leaf\": [2],\n",
    "        'n_estimators': [100],\n",
    "    }\n",
    "\n",
    "# Grid search with RF classifier.\n",
    "clf = GridSearchCV(\n",
    "        estimator=RandomForestClassifier(random_state=1, n_jobs=-1),\n",
    "        param_grid=parameters,\n",
    "        cv=5,\n",
    "        n_jobs=-1,\n",
    "    )\n",
    "\n",
    "clf.fit(X_train[:10000, :], Y[:10000])\n",
    "\n",
    "print(\"Best parameters set found on training set:\")\n",
    "print(clf.best_params_)\n",
    "print()\n",
    "\n",
    "means_valid = clf.cv_results_['mean_test_score']\n",
    "stds_valid = clf.cv_results_['std_test_score']\n",
    "means_train = clf.cv_results_['mean_train_score']\n",
    "\n",
    "print(\"Grid scores:\")\n",
    "for mean_valid, std_valid, mean_train, params in zip(means_valid, stds_valid, means_train, clf.cv_results_['params']):\n",
    "    print(\"Validation: %0.3f (+/-%0.03f), Training: %0.3f  for %r\" % (mean_valid, std_valid, mean_train, params))\n",
    "print()"
   ]
  },
  {
   "cell_type": "code",
   "execution_count": 7,
   "metadata": {
    "collapsed": false
   },
   "outputs": [],
   "source": [
    "out = np.zeros((8190, 2))\n",
    "out[:, 1] = clf.predict(X_test)\n",
    "out[:, 0] = range(1,8191)\n",
    "np.savetxt('out.csv', out, delimiter=',', fmt='%i')"
   ]
  }
 ],
 "metadata": {
  "kernelspec": {
   "display_name": "Python 3",
   "language": "python",
   "name": "python3"
  },
  "language_info": {
   "codemirror_mode": {
    "name": "ipython",
    "version": 3
   },
   "file_extension": ".py",
   "mimetype": "text/x-python",
   "name": "python",
   "nbconvert_exporter": "python",
   "pygments_lexer": "ipython3",
   "version": "3.6.0"
  }
 },
 "nbformat": 4,
 "nbformat_minor": 2
}
