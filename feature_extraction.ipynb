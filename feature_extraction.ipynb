{
 "cells": [
  {
   "cell_type": "code",
   "execution_count": 1,
   "metadata": {
    "collapsed": false
   },
   "outputs": [],
   "source": [
    "import math\n",
    "import numpy as np\n",
    "import pickle\n",
    "%matplotlib inline\n",
    "import matplotlib.pyplot as plt\n",
    "import cv2\n",
    "from scipy.misc import imresize\n",
    "from skimage import feature\n",
    "\n",
    "from sklearn.ensemble import RandomForestClassifier\n",
    "from sklearn.model_selection import RandomizedSearchCV\n",
    "from scipy.stats import randint as sp_randint"
   ]
  },
  {
   "cell_type": "code",
   "execution_count": 2,
   "metadata": {
    "collapsed": false
   },
   "outputs": [
    {
     "name": "stdout",
     "output_type": "stream",
     "text": [
      "done\n"
     ]
    }
   ],
   "source": [
    "# helpers\n",
    "\n",
    "# plot images, list are dislayed in subplots\n",
    "def plot(imgs, title=None):\n",
    "    # make sure input is a list\n",
    "    if not isinstance(imgs, list):\n",
    "        imgs = [imgs]\n",
    "    \n",
    "    plt.figure()\n",
    "        \n",
    "    for i in range(len(imgs)):\n",
    "        if(title is not None): \n",
    "            plt.suptitle(title)\n",
    "        plt.subplot(1, len(imgs), i+1)\n",
    "        plt.axis(\"off\")\n",
    "        plt.imshow(imgs[i])\n",
    "        \n",
    "\n",
    "# create empty list of given size\n",
    "def empty(size):\n",
    "    return [None]*size\n",
    "\n",
    "# load data set\n",
    "def load_data(set_name, chunk):\n",
    "    \n",
    "    data = pickle.load(open(\"./data_pp/%s_%i.pkl\" % (set_name, chunk), 'rb'))\n",
    "    \n",
    "    print('load_set: loaded %i samples' % data['n_samples'])\n",
    "    \n",
    "    return data\n",
    "    \n",
    "# dump feature set\n",
    "def dump_features(set_name, chunk, features):\n",
    "    \n",
    "    pickle.dump(features, open(\"./features/%s_%i.pkl\" % (set_name, chunk), 'wb'))\n",
    "\n",
    "    \n",
    "print('done')"
   ]
  },
  {
   "cell_type": "code",
   "execution_count": null,
   "metadata": {
    "collapsed": true
   },
   "outputs": [],
   "source": [
    "def hog(img):\n",
    "    \n",
    "    orientations=8\n",
    "    pixels_per_cell=(20,20)\n",
    "    cells_per_block=(2,2)\n",
    "    \n",
    "    return feature.hog(img, orientations, pixels_per_cell, cells_per_block, visualise=False)\n",
    "    \n",
    "\n",
    "def sift(img):\n",
    "    \n",
    "    pixelStepSize = 10\n",
    "    \n",
    "    sift = cv2.xfeatures2d.SIFT_create()\n",
    "    \n",
    "    keypointGrid = [cv2.KeyPoint(x, y, pixelStepSize)\n",
    "                    for y in range(0, img.shape[0], pixelStepSize)\n",
    "                        for x in range(0, img.shape[1], pixelStepSize)]\n",
    "    \n",
    "#     (kp, descriptions) = sift.compute(img, keypointGrid)\n",
    "    \n",
    "    return sift.compute(img, keypointGrid)[1]"
   ]
  },
  {
   "cell_type": "code",
   "execution_count": 3,
   "metadata": {
    "collapsed": false,
    "scrolled": true
   },
   "outputs": [
    {
     "name": "stdout",
     "output_type": "stream",
     "text": [
      "memory: cleared\n",
      "memory: nothing loaded\n"
     ]
    },
    {
     "ename": "FileNotFoundError",
     "evalue": "[Errno 2] No such file or directory: './data_pp/train_0.pkl'",
     "output_type": "error",
     "traceback": [
      "\u001b[0;31m---------------------------------------------------------------------------\u001b[0m",
      "\u001b[0;31mFileNotFoundError\u001b[0m                         Traceback (most recent call last)",
      "\u001b[0;32m<ipython-input-3-800059138720>\u001b[0m in \u001b[0;36m<module>\u001b[0;34m()\u001b[0m\n\u001b[1;32m     11\u001b[0m \u001b[0;34m\u001b[0m\u001b[0m\n\u001b[1;32m     12\u001b[0m \u001b[0;31m# load data\u001b[0m\u001b[0;34m\u001b[0m\u001b[0;34m\u001b[0m\u001b[0m\n\u001b[0;32m---> 13\u001b[0;31m \u001b[0mdata\u001b[0m \u001b[0;34m=\u001b[0m \u001b[0mload_data\u001b[0m\u001b[0;34m(\u001b[0m\u001b[0mset_name\u001b[0m\u001b[0;34m,\u001b[0m \u001b[0mchunk\u001b[0m\u001b[0;34m)\u001b[0m\u001b[0;34m\u001b[0m\u001b[0m\n\u001b[0m\u001b[1;32m     14\u001b[0m \u001b[0;34m\u001b[0m\u001b[0m\n\u001b[1;32m     15\u001b[0m \u001b[0mprint\u001b[0m\u001b[0;34m(\u001b[0m\u001b[0;34m'done'\u001b[0m\u001b[0;34m)\u001b[0m\u001b[0;34m\u001b[0m\u001b[0m\n",
      "\u001b[0;32m<ipython-input-2-a9642ebacaba>\u001b[0m in \u001b[0;36mload_data\u001b[0;34m(set_name, chunk)\u001b[0m\n\u001b[1;32m     48\u001b[0m \u001b[0;32mdef\u001b[0m \u001b[0mload_data\u001b[0m\u001b[0;34m(\u001b[0m\u001b[0mset_name\u001b[0m\u001b[0;34m,\u001b[0m \u001b[0mchunk\u001b[0m\u001b[0;34m)\u001b[0m\u001b[0;34m:\u001b[0m\u001b[0;34m\u001b[0m\u001b[0m\n\u001b[1;32m     49\u001b[0m \u001b[0;34m\u001b[0m\u001b[0m\n\u001b[0;32m---> 50\u001b[0;31m     \u001b[0mdata\u001b[0m \u001b[0;34m=\u001b[0m \u001b[0mpickle\u001b[0m\u001b[0;34m.\u001b[0m\u001b[0mload\u001b[0m\u001b[0;34m(\u001b[0m\u001b[0mopen\u001b[0m\u001b[0;34m(\u001b[0m\u001b[0;34m\"./data_pp/%s_%i.pkl\"\u001b[0m \u001b[0;34m%\u001b[0m \u001b[0;34m(\u001b[0m\u001b[0mset_name\u001b[0m\u001b[0;34m,\u001b[0m \u001b[0mchunk\u001b[0m\u001b[0;34m)\u001b[0m\u001b[0;34m,\u001b[0m \u001b[0;34m'rb'\u001b[0m\u001b[0;34m)\u001b[0m\u001b[0;34m)\u001b[0m\u001b[0;34m\u001b[0m\u001b[0m\n\u001b[0m\u001b[1;32m     51\u001b[0m \u001b[0;34m\u001b[0m\u001b[0m\n\u001b[1;32m     52\u001b[0m     \u001b[0mprint\u001b[0m\u001b[0;34m(\u001b[0m\u001b[0;34m'load_set: loaded %i samples'\u001b[0m \u001b[0;34m%\u001b[0m \u001b[0mdata\u001b[0m\u001b[0;34m[\u001b[0m\u001b[0;34m'n_samples'\u001b[0m\u001b[0;34m]\u001b[0m\u001b[0;34m)\u001b[0m\u001b[0;34m\u001b[0m\u001b[0m\n",
      "\u001b[0;31mFileNotFoundError\u001b[0m: [Errno 2] No such file or directory: './data_pp/train_0.pkl'"
     ]
    }
   ],
   "source": [
    "# make sure memory is cleared\n",
    "try:\n",
    "    print('memory: cleared')\n",
    "    del data\n",
    "except:\n",
    "    print('memory: nothing loaded')\n",
    "\n",
    "# choose data_set to be used\n",
    "set_name = 'train'\n",
    "chunk = 0\n",
    "\n",
    "# load data\n",
    "data = load_data(set_name, chunk)\n",
    "\n",
    "print('done')"
   ]
  },
  {
   "cell_type": "code",
   "execution_count": 7,
   "metadata": {
    "collapsed": false,
    "scrolled": false
   },
   "outputs": [
    {
     "data": {
      "image/png": "[encoded data removed]",
      "text/plain": [
       "<matplotlib.figure.Figure at 0x7f0900384cf8>"
      ]
     },
     "metadata": {},
     "output_type": "display_data"
    }
   ],
   "source": [
    "mean = np.zeros((120,120))\n",
    "for i in r:\n",
    "    label = data['label'][i]\n",
    "    if data['valid'][i] and label == 10:\n",
    "        dep = data['dep'][i]\n",
    "#         dep[dep==0] = 255\n",
    "#         plot([data['rgb'][i], dep<123], label)\n",
    "        mean += dep\n",
    "        \n",
    "plot(mean)\n",
    "        "
   ]
  },
  {
   "cell_type": "code",
   "execution_count": 4,
   "metadata": {
    "collapsed": true
   },
   "outputs": [],
   "source": [
    "features = {'hog_dep':empty(c),'hog_depd':empty(c),'hog_rgb':empty(c),'sift_dense':empty(c)}"
   ]
  },
  {
   "cell_type": "code",
   "execution_count": 5,
   "metadata": {
    "collapsed": false,
    "scrolled": false
   },
   "outputs": [
    {
     "name": "stdout",
     "output_type": "stream",
     "text": [
      "0\n",
      "1000\n",
      "2000\n",
      "3000\n",
      "4000\n",
      "5000\n",
      "6000\n",
      "7000\n",
      "8000\n",
      "done\n"
     ]
    }
   ],
   "source": [
    "orientations=8\n",
    "pixels_per_cell=(20,20)\n",
    "cells_per_block=(2,2)\n",
    "\n",
    "for i in r:\n",
    "    if(not i%1000):\n",
    "        print(i)\n",
    "    \n",
    "    if(not data['valid'][i]):\n",
    "        continue\n",
    "        \n",
    "    dep = data['dep'][i]\n",
    "    dep[dep==0] = 255\n",
    "    \n",
    "    d = 127\n",
    "    while((dep<d).sum() > 500):\n",
    "        d -= 1\n",
    "    \n",
    "#     features['hog_dep'], hog_dep = feature.hog(dep, orientations, pixels_per_cell, cells_per_block, visualise=True)\n",
    "    features['hog_dep'][i] = feature.hog(dep, orientations, pixels_per_cell, cells_per_block, visualise=False)\n",
    "#     features['hog_depd'], hog_depd = feature.hog(dep<d, orientations, pixels_per_cell, cells_per_block, visualise=True)\n",
    "    features['hog_depd'][i] = feature.hog(dep<d, orientations, pixels_per_cell, cells_per_block, visualise=False)\n",
    "    \n",
    "    rgb = data['rgb'][i]\n",
    "    rgb = cv2.cvtColor(rgb, cv2.COLOR_RGB2GRAY)\n",
    "    \n",
    "#     features['hog_rgb'], hog_rgb = feature.hog(rgb, orientations, pixels_per_cell, cells_per_block, visualise=True)\n",
    "    features['hog_rgb'][i] = feature.hog(rgb, orientations, pixels_per_cell, cells_per_block, visualise=False)\n",
    "    \n",
    "#     plot([hog_dep, hog_depd, hog_rgb])\n",
    "\n",
    "print('done')"
   ]
  },
  {
   "cell_type": "code",
   "execution_count": 6,
   "metadata": {
    "collapsed": false
   },
   "outputs": [
    {
     "name": "stdout",
     "output_type": "stream",
     "text": [
      "0\n",
      "1000\n",
      "2000\n",
      "3000\n",
      "4000\n",
      "5000\n",
      "6000\n",
      "7000\n",
      "8000\n"
     ]
    }
   ],
   "source": [
    "pixelStepSize=10\n",
    "\n",
    "for i in r:\n",
    "    if(not i%1000):\n",
    "        print(i)\n",
    "        \n",
    "    if(not data['valid'][i]):\n",
    "        continue \n",
    "    \n",
    "    img = data['rgb'][i]\n",
    "    \n",
    "    # Create sift object.\n",
    "    sift = cv2.xfeatures2d.SIFT_create()\n",
    "    \n",
    "    # Create grid of key points.\n",
    "    keypointGrid = [cv2.KeyPoint(x, y, pixelStepSize)\n",
    "                    for y in range(0, img.shape[0], pixelStepSize)\n",
    "                        for x in range(0, img.shape[1], pixelStepSize)]\n",
    "    \n",
    "    # Given the list of keypoints, compute the local descriptions for every keypoint.\n",
    "    (kp, descriptions) = sift.compute(img, keypointGrid)\n",
    "    \n",
    "#     print(len(descriptions))\n",
    "\n",
    "    features['sift_dense'][i] = descriptions\n",
    "    \n",
    "print('done')\n",
    "    "
   ]
  },
  {
   "cell_type": "code",
   "execution_count": 7,
   "metadata": {
    "collapsed": false
   },
   "outputs": [],
   "source": [
    "X = np.zeros((c, 2400+144*13))"
   ]
  },
  {
   "cell_type": "code",
   "execution_count": 8,
   "metadata": {
    "collapsed": false
   },
   "outputs": [
    {
     "name": "stdout",
     "output_type": "stream",
     "text": [
      "[  0  10  20  30  40  50  60  70  80  90 100 110 120]\n",
      "(1872,)\n"
     ]
    }
   ],
   "source": [
    "print(np.array(range(128))[0::10])\n",
    "print(features['sift_dense'][0][:, 0::10].ravel().shape)"
   ]
  },
  {
   "cell_type": "code",
   "execution_count": 9,
   "metadata": {
    "collapsed": false
   },
   "outputs": [
    {
     "name": "stdout",
     "output_type": "stream",
     "text": [
      "(8190, 4272)\n"
     ]
    }
   ],
   "source": [
    "for i in r:\n",
    "        \n",
    "    if(not data['valid'][i]):\n",
    "        continue\n",
    "    \n",
    "    X[i, 0:800] = features['hog_dep'][i]\n",
    "    X[i, 800:1600] = features['hog_depd'][i]\n",
    "    X[i, 1600:2400] = features['hog_rgb'][i]\n",
    "    X[i, 2400:] = features['sift_dense'][i][:, 0::10].ravel()\n",
    "    \n",
    "print(X.shape)"
   ]
  },
  {
   "cell_type": "code",
   "execution_count": null,
   "metadata": {
    "collapsed": true
   },
   "outputs": [],
   "source": []
  },
  {
   "cell_type": "code",
   "execution_count": 10,
   "metadata": {
    "collapsed": false
   },
   "outputs": [],
   "source": [
    "X[np.isnan(X)] = 0"
   ]
  },
  {
   "cell_type": "code",
   "execution_count": 42,
   "metadata": {
    "collapsed": false
   },
   "outputs": [
    {
     "name": "stdout",
     "output_type": "stream",
     "text": [
      "(38000,)\n"
     ]
    }
   ],
   "source": [
    "Y = data['label']\n",
    "print(Y.shape)"
   ]
  },
  {
   "cell_type": "code",
   "execution_count": 12,
   "metadata": {
    "collapsed": false
   },
   "outputs": [],
   "source": [
    "pickle.dump(X, open(\"./features/features-%s_2.pkl\" % data_set, 'wb'))\n",
    "# pickle.dump(Y, open(\"./features/labels-train.pkl\", 'wb'))"
   ]
  }
 ],
 "metadata": {
  "kernelspec": {
   "display_name": "Python 3",
   "language": "python",
   "name": "python3"
  },
  "language_info": {
   "codemirror_mode": {
    "name": "ipython",
    "version": 3
   },
   "file_extension": ".py",
   "mimetype": "text/x-python",
   "name": "python",
   "nbconvert_exporter": "python",
   "pygments_lexer": "ipython3",
   "version": "3.6.0"
  }
 },
 "nbformat": 4,
 "nbformat_minor": 2
}
