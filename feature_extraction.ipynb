{
 "cells": [
  {
   "cell_type": "code",
   "execution_count": 1,
   "metadata": {
    "collapsed": false
   },
   "outputs": [],
   "source": [
    "import math\n",
    "import numpy as np\n",
    "import pickle\n",
    "%matplotlib inline\n",
    "import matplotlib.pyplot as plt\n",
    "import cv2\n",
    "from scipy.misc import imresize\n",
    "from skimage import feature\n",
    "\n",
    "from sklearn.ensemble import RandomForestClassifier\n",
    "from sklearn.model_selection import RandomizedSearchCV\n",
    "from scipy.stats import randint as sp_randint"
   ]
  },
  {
   "cell_type": "code",
   "execution_count": 2,
   "metadata": {
    "collapsed": false
   },
   "outputs": [
    {
     "name": "stdout",
     "output_type": "stream",
     "text": [
      "done\n"
     ]
    }
   ],
   "source": [
    "# helpers\n",
    "\n",
    "# plot images, list are dislayed in subplots\n",
    "def plot(imgs, title=None):\n",
    "    # make sure input is a list\n",
    "    if not isinstance(imgs, list):\n",
    "        imgs = [imgs]\n",
    "    \n",
    "    plt.figure()\n",
    "        \n",
    "    for i in range(len(imgs)):\n",
    "        if(title is not None): \n",
    "            plt.suptitle(title)\n",
    "        plt.subplot(1, len(imgs), i+1)\n",
    "        plt.axis(\"off\")\n",
    "        plt.imshow(imgs[i])\n",
    "        \n",
    "\n",
    "# create empty list of given size\n",
    "def empty(size):\n",
    "    return [None]*size\n",
    "\n",
    "print('done')"
   ]
  },
  {
   "cell_type": "code",
   "execution_count": 12,
   "metadata": {
    "collapsed": false,
    "scrolled": true
   },
   "outputs": [
    {
     "name": "stdout",
     "output_type": "stream",
     "text": [
      "38000 samples\n",
      "done\n"
     ]
    }
   ],
   "source": [
    "# choose data_set to be used\n",
    "data_set = 'train'\n",
    "\n",
    "# load data\n",
    "data = pickle.load(open(\"./data_pp/data-%s.pkl\" % data_set, 'rb'))\n",
    "c = len(data['rgb'])\n",
    "print('%i samples' % c)\n",
    "\n",
    "r = range(c)\n",
    "\n",
    "print('done')"
   ]
  },
  {
   "cell_type": "code",
   "execution_count": 4,
   "metadata": {
    "collapsed": true
   },
   "outputs": [],
   "source": [
    "features = {'hog_dep':empty(c),'hog_depd':empty(c),'hog_rgb':empty(c)}"
   ]
  },
  {
   "cell_type": "code",
   "execution_count": 5,
   "metadata": {
    "collapsed": false,
    "scrolled": false
   },
   "outputs": [
    {
     "name": "stdout",
     "output_type": "stream",
     "text": [
      "0\n",
      "1000\n",
      "2000\n",
      "3000\n",
      "4000\n",
      "5000\n",
      "6000\n",
      "7000\n",
      "8000\n",
      "done\n"
     ]
    }
   ],
   "source": [
    "for i in r:\n",
    "    if(not i%1000):\n",
    "        print(i)\n",
    "    \n",
    "    if(not data['valid'][i]):\n",
    "        continue \n",
    "        \n",
    "    dep = data['dep'][i]\n",
    "    dep[dep==0] = 255\n",
    "    \n",
    "    d = 127\n",
    "    while((dep<d).sum() > 500):\n",
    "        d -= 1\n",
    "    \n",
    "    orientations=8\n",
    "    pixels_per_cell=(20,20)\n",
    "    cells_per_block=(2,2)\n",
    "    \n",
    "#     features['hog_dep'], hog_dep = feature.hog(dep, orientations, pixels_per_cell, cells_per_block, visualise=True)\n",
    "    features['hog_dep'][i] = feature.hog(dep, orientations, pixels_per_cell, cells_per_block, visualise=False)\n",
    "#     features['hog_depd'], hog_depd = feature.hog(dep<d, orientations, pixels_per_cell, cells_per_block, visualise=True)\n",
    "    features['hog_depd'][i] = feature.hog(dep<d, orientations, pixels_per_cell, cells_per_block, visualise=False)\n",
    "    \n",
    "    rgb = data['rgb'][i]\n",
    "    rgb = cv2.cvtColor(rgb, cv2.COLOR_RGB2GRAY)\n",
    "    \n",
    "#     features['hog_rgb'], hog_rgb = feature.hog(rgb, orientations, pixels_per_cell, cells_per_block, visualise=True)\n",
    "    features['hog_rgb'][i] = feature.hog(rgb, orientations, pixels_per_cell, cells_per_block, visualise=False)\n",
    "    \n",
    "#     plot([hog_dep, hog_depd, hog_rgb])\n",
    "\n",
    "print('done')"
   ]
  },
  {
   "cell_type": "code",
   "execution_count": 7,
   "metadata": {
    "collapsed": false
   },
   "outputs": [
    {
     "name": "stdout",
     "output_type": "stream",
     "text": [
      "(8190, 2400)\n"
     ]
    }
   ],
   "source": [
    "X = np.zeros((c, 2400))\n",
    "\n",
    "for i in r:\n",
    "    X[i, 0:800] = features['hog_dep'][i]\n",
    "    X[i, 800:1600] = features['hog_depd'][i]\n",
    "    X[i, 1600:2400] = features['hog_rgb'][i]\n",
    "    \n",
    "print(X.shape)"
   ]
  },
  {
   "cell_type": "code",
   "execution_count": 9,
   "metadata": {
    "collapsed": false
   },
   "outputs": [],
   "source": [
    "X[np.isnan(X)] = 0"
   ]
  },
  {
   "cell_type": "code",
   "execution_count": 15,
   "metadata": {
    "collapsed": false
   },
   "outputs": [
    {
     "name": "stdout",
     "output_type": "stream",
     "text": [
      "(38000,)\n"
     ]
    }
   ],
   "source": [
    "Y = data['label']\n",
    "print(Y.shape)"
   ]
  },
  {
   "cell_type": "code",
   "execution_count": 10,
   "metadata": {
    "collapsed": true
   },
   "outputs": [],
   "source": [
    "pickle.dump(X, open(\"./features/features-%s.pkl\" % data_set, 'wb'))\n",
    "pickle.dump(Y, open(\"./features/labels-train.pkl\", 'wb'))"
   ]
  }
 ],
 "metadata": {
  "kernelspec": {
   "display_name": "Python 3",
   "language": "python",
   "name": "python3"
  },
  "language_info": {
   "codemirror_mode": {
    "name": "ipython",
    "version": 3
   },
   "file_extension": ".py",
   "mimetype": "text/x-python",
   "name": "python",
   "nbconvert_exporter": "python",
   "pygments_lexer": "ipython3",
   "version": "3.6.0"
  }
 },
 "nbformat": 4,
 "nbformat_minor": 2
}
