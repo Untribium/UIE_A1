{
 "cells": [
  {
   "cell_type": "code",
   "execution_count": 1,
   "metadata": {
    "collapsed": false
   },
   "outputs": [],
   "source": [
    "# init\n",
    "\n",
    "import math\n",
    "import numpy as np\n",
    "import pickle\n",
    "%matplotlib inline\n",
    "import matplotlib.pyplot as plt\n",
    "import cv2\n",
    "from scipy.misc import imresize\n",
    "from skimage import feature"
   ]
  },
  {
   "cell_type": "code",
   "execution_count": 2,
   "metadata": {
    "collapsed": false
   },
   "outputs": [
    {
     "name": "stdout",
     "output_type": "stream",
     "text": [
      "done\n"
     ]
    }
   ],
   "source": [
    "# helpers\n",
    "\n",
    "# plot images, list are dislayed in subplots\n",
    "def plot(imgs, title=None):\n",
    "    # make sure input is a list\n",
    "    if not isinstance(imgs, list):\n",
    "        imgs = [imgs]\n",
    "    \n",
    "    plt.figure()\n",
    "        \n",
    "    for i in range(len(imgs)):\n",
    "        if(title is not None): \n",
    "            plt.suptitle(title)\n",
    "        plt.subplot(1, len(imgs), i+1)\n",
    "        plt.axis(\"off\")\n",
    "        plt.imshow(imgs[i])\n",
    "        \n",
    "\n",
    "# create empty list of given size\n",
    "def empty(size):\n",
    "    return [None]*size\n",
    "\n",
    "print('done')"
   ]
  },
  {
   "cell_type": "code",
   "execution_count": 3,
   "metadata": {
    "collapsed": false,
    "scrolled": true
   },
   "outputs": [
    {
     "name": "stdout",
     "output_type": "stream",
     "text": [
      "38000 samples\n",
      "done\n"
     ]
    }
   ],
   "source": [
    "# choose data_set to be used\n",
    "data_set = 'train'\n",
    "\n",
    "# load data\n",
    "data = pickle.load(open(\"./data_pp/data-%s.pkl\" % data_set, 'rb'))\n",
    "c = len(data['rgb'])\n",
    "print('%i samples' % c)\n",
    "\n",
    "r = range(c)\n",
    "\n",
    "print('done')"
   ]
  },
  {
   "cell_type": "code",
   "execution_count": 66,
   "metadata": {
    "collapsed": false,
    "scrolled": false
   },
   "outputs": [],
   "source": [
    "for i in range(50, 100):\n",
    "    if(not data['valid'][i]):\n",
    "        continue \n",
    "        \n",
    "    img = data['dep'][i]\n",
    "    img[img==0] = 255\n",
    "    \n",
    "    d = 127\n",
    "    while((img<d).sum() > 500):\n",
    "        d -= 1\n",
    "    \n",
    "    orientations=4\n",
    "    pixels_per_cell=(20,20)\n",
    "    cells_per_block=(4,4)\n",
    "    \n",
    "    hog_features, hog_image = feature.hog(img, orientations, pixels_per_cell, cells_per_block, visualise=True)\n",
    "    \n",
    "#     plot([img<d, hog_image, data['rgb'][i]])"
   ]
  }
 ],
 "metadata": {
  "kernelspec": {
   "display_name": "Python 3",
   "language": "python",
   "name": "python3"
  },
  "language_info": {
   "codemirror_mode": {
    "name": "ipython",
    "version": 3
   },
   "file_extension": ".py",
   "mimetype": "text/x-python",
   "name": "python",
   "nbconvert_exporter": "python",
   "pygments_lexer": "ipython3",
   "version": "3.6.0"
  }
 },
 "nbformat": 4,
 "nbformat_minor": 2
}
