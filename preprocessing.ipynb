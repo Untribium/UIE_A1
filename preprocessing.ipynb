{
 "cells": [
  {
   "cell_type": "code",
   "execution_count": 1,
   "metadata": {
    "collapsed": false
   },
   "outputs": [],
   "source": [
    "import math\n",
    "import numpy as np\n",
    "import pickle\n",
    "%matplotlib inline\n",
    "import matplotlib.pyplot as plt\n",
    "import cv2\n",
    "from scipy.misc import imresize\n",
    "from skimage import feature"
   ]
  },
  {
   "cell_type": "code",
   "execution_count": 2,
   "metadata": {
    "collapsed": false
   },
   "outputs": [
    {
     "name": "stdout",
     "output_type": "stream",
     "text": [
      "done\n"
     ]
    }
   ],
   "source": [
    "# helpers\n",
    "\n",
    "# plot images, list are dislayed in subplots\n",
    "def plot(imgs, title=None):\n",
    "    # make sure input is a list\n",
    "    if not isinstance(imgs, list):\n",
    "        imgs = [imgs]\n",
    "    \n",
    "    plt.figure()\n",
    "        \n",
    "    for i in range(len(imgs)):\n",
    "        if(title is not None): \n",
    "            plt.suptitle(title)\n",
    "        plt.subplot(1, len(imgs), i+1)\n",
    "        plt.axis(\"off\")\n",
    "        plt.imshow(imgs[i])\n",
    "        \n",
    "\n",
    "# create empty list of given size\n",
    "def empty(size):\n",
    "    return [None]*size\n",
    "\n",
    "# calc sigmoid function\n",
    "def sigmoid(x):\n",
    "    return 1 / (1 + math.exp(-x))\n",
    "\n",
    "# calculate mean column of image\n",
    "def mean_column(img):\n",
    "    # sum up columns\n",
    "    colsum = np.sum(img, axis=0)\n",
    "    \n",
    "    # get left and right boundaries\n",
    "    left = np.min(np.nonzero(colsum))\n",
    "    right = np.max(np.nonzero(colsum))\n",
    "    \n",
    "    # calc cumulative sum\n",
    "    cumsum = np.cumsum(colsum[left:right])\n",
    "    \n",
    "    # return index closest to mean\n",
    "    return left+(np.abs(cumsum-np.mean(cumsum))).argmin()\n",
    "\n",
    "# calculate masks from seg\n",
    "def mask2(img):\n",
    "    return img[:,:,0]>200\n",
    "    \n",
    "def mask3(img):\n",
    "    return np.tile(mask2(img), (3,1,1)).transpose((1,2,0))\n",
    "\n",
    "print('done')"
   ]
  },
  {
   "cell_type": "code",
   "execution_count": 3,
   "metadata": {
    "collapsed": false
   },
   "outputs": [
    {
     "name": "stdout",
     "output_type": "stream",
     "text": [
      "8190 samples\n",
      "done\n"
     ]
    }
   ],
   "source": [
    "# choose data_set to be used\n",
    "data_set = 'test'\n",
    "\n",
    "# load data\n",
    "data = pickle.load(open(\"./data/data-%s.pkl\" % data_set, 'rb'))\n",
    "c = data['rgb'].shape[0]\n",
    "print('%i samples' % c)\n",
    "\n",
    "r = range(c)\n",
    "\n",
    "# init 'preprocessed' dict\n",
    "data_pp = {'seg':empty(c),'rgb':empty(c),'dep':empty(c),'subject':empty(c),'label':empty(c),'valid': empty(c)}\n",
    "\n",
    "# set labels if training set\n",
    "if(data_set == 'train'):\n",
    "    data_pp['label'] = data['gestureLabels']\n",
    "\n",
    "# copy and subjects from original data\n",
    "data_pp['subject'] = data['subjectLabels']\n",
    "\n",
    "print('done')"
   ]
  },
  {
   "cell_type": "code",
   "execution_count": 4,
   "metadata": {
    "collapsed": false
   },
   "outputs": [
    {
     "name": "stdout",
     "output_type": "stream",
     "text": [
      "done\n"
     ]
    }
   ],
   "source": [
    "# filter invalid samples\n",
    "\n",
    "if('valid' not in data.keys()):\n",
    "    data['valid'] = empty(c)\n",
    "\n",
    "    for i, img in enumerate(data['segmentation']):\n",
    "        data['valid'][i] = img.sum() > 0\n",
    "\n",
    "    pickle.dump(data, open(\"./data/data-%s.pkl\" % data_set, 'wb'))\n",
    "\n",
    "# copy valid-flags and subjects from original data\n",
    "data_pp['valid'] = data['valid']\n",
    "\n",
    "print('done')"
   ]
  },
  {
   "cell_type": "code",
   "execution_count": 5,
   "metadata": {
    "collapsed": false,
    "scrolled": false
   },
   "outputs": [
    {
     "name": "stdout",
     "output_type": "stream",
     "text": [
      "done\n"
     ]
    }
   ],
   "source": [
    "# crop and scale\n",
    "for i in r:\n",
    "    if(not data_pp['valid'][i]):\n",
    "        continue\n",
    "        \n",
    "    sample = data['segmentation'][i][:, :, 0]\n",
    "    \n",
    "    # top border\n",
    "    top = np.min(np.nonzero(np.any(sample, axis=1)))\n",
    "    \n",
    "    # crop and scale segmentation to calculate body area\n",
    "    bottom = np.max(np.nonzero(np.any(sample, axis=1)))\n",
    "    \n",
    "    # approximate center of body\n",
    "    mean = mean_column(sample[top:bottom, :])\n",
    "    \n",
    "    # calc scale factor\n",
    "    height = int(bottom-top)\n",
    "    factor = 120/height\n",
    "    \n",
    "    # pad image in case we go out of bounds\n",
    "    seg_tmp = data['segmentation'][i].copy()\n",
    "    seg_tmp = np.lib.pad(seg_tmp, ((0, 0), (60, 60), (0, 0)), 'constant')\n",
    "    \n",
    "    # calc left and right crop\n",
    "    left = 60+mean-int(60/factor)\n",
    "    right = 60+mean+int(60/factor)\n",
    "    \n",
    "    # scale cropped image\n",
    "    seg = cv2.resize(seg_tmp[top:bottom, left:right, :] ,(120, 120), interpolation=cv2.INTER_CUBIC)\n",
    "    \n",
    "    # calculate std of masked depth\n",
    "    mask = mask2(data['segmentation'][i])\n",
    "    dep_masked = data['depth'][i]*mask\n",
    "    std = np.std(dep_masked[dep_masked>0])\n",
    "    \n",
    "    # calculate body area (sum of pixel vals, this is why we scale)\n",
    "    pix = seg.sum()\n",
    "\n",
    "    # calculate prob of close-up photograph\n",
    "    p_pix = sigmoid((pix-3250000)/90000)\n",
    "    p_std = sigmoid((std-9.5))\n",
    "    p = p_pix*p_pix*p_std\n",
    "    \n",
    "    # adjust bottom crop\n",
    "    if not np.any(sample[118:120, :]):\n",
    "        bottom = top+int((bottom-top)*0.5)\n",
    "    elif(p < 0.125):\n",
    "        bottom = top+int((bottom-top)*0.65)\n",
    "        \n",
    "    # center and scale once more, this time for all three image types\n",
    "    # use new bottom crop to get better mean\n",
    "    mean = mean_column(sample[top:bottom, :])\n",
    "    \n",
    "    height = int(bottom-top)\n",
    "    factor = 120/height\n",
    "    \n",
    "    left = 60+mean-int(60/factor)\n",
    "    right = 60+mean+int(60/factor)\n",
    "    \n",
    "    seg_tmp = data['segmentation'][i].copy()\n",
    "    seg_tmp = np.lib.pad(seg_tmp, ((0, 0), (60, 60), (0, 0)), 'constant')\n",
    "    \n",
    "    rgb_tmp = data['rgb'][i].copy()\n",
    "    rgb_tmp = np.lib.pad(rgb_tmp, ((0, 0), (60, 60), (0, 0)), 'constant')\n",
    "    \n",
    "    dep_tmp = data['depth'][i].copy()\n",
    "    dep_tmp = np.lib.pad(dep_tmp, ((0, 0), (60, 60)), 'constant')\n",
    "    \n",
    "    seg = cv2.resize(seg_tmp[top:bottom, left:right, :] ,(120, 120), interpolation=cv2.INTER_CUBIC)\n",
    "    rgb = cv2.resize(rgb_tmp[top:bottom, left:right, :] ,(120, 120), interpolation=cv2.INTER_CUBIC)\n",
    "    dep = cv2.resize(dep_tmp[top:bottom, left:right   ] ,(120, 120), interpolation=cv2.INTER_CUBIC)\n",
    "    \n",
    "    # mask rgb and depth\n",
    "    rgb *= mask3(seg)\n",
    "    dep *= mask2(seg)\n",
    "    \n",
    "    # store to new dict\n",
    "    data_pp['seg'][i] = seg\n",
    "    data_pp['rgb'][i] = rgb\n",
    "    data_pp['dep'][i] = dep\n",
    "    \n",
    "print('done')"
   ]
  },
  {
   "cell_type": "code",
   "execution_count": 6,
   "metadata": {
    "collapsed": true
   },
   "outputs": [],
   "source": [
    "# clear some memory\n",
    "data = None"
   ]
  },
  {
   "cell_type": "code",
   "execution_count": 7,
   "metadata": {
    "collapsed": false
   },
   "outputs": [
    {
     "name": "stdout",
     "output_type": "stream",
     "text": [
      "done\n"
     ]
    }
   ],
   "source": [
    "# normalize depth to mean 127\n",
    "for i in r:\n",
    "    if(not data_pp['valid'][i]):\n",
    "        continue\n",
    "        \n",
    "    img = data_pp['dep'][i]\n",
    "    \n",
    "    offset = int(img[img>0].mean() - 127)\n",
    "    \n",
    "    # in case some pixels are < offset, set them to 0 to avoid integer overflow (shouldn't happen)\n",
    "    if(img[img>0].min() < offset):\n",
    "        img[img<offset] = 0\n",
    "        \n",
    "    img[img>0] = img[img>0]-offset\n",
    "    \n",
    "print('done')"
   ]
  },
  {
   "cell_type": "code",
   "execution_count": 8,
   "metadata": {
    "collapsed": false
   },
   "outputs": [
    {
     "name": "stdout",
     "output_type": "stream",
     "text": [
      "done\n"
     ]
    }
   ],
   "source": [
    "# visualize\n",
    "for i in range(100):\n",
    "    if(not data_pp['valid'][i]):\n",
    "        continue\n",
    "    \n",
    "#     plot([data_pp['seg'][i], data_pp['rgb'][i], data_pp['dep'][i]], i)\n",
    "print('done')"
   ]
  },
  {
   "cell_type": "code",
   "execution_count": 9,
   "metadata": {
    "collapsed": false
   },
   "outputs": [
    {
     "name": "stdout",
     "output_type": "stream",
     "text": [
      "done\n"
     ]
    }
   ],
   "source": [
    "# dump to disk\n",
    "pickle.dump(data_pp, open(\"./data_pp/data-%s.pkl\" % data_set, 'wb'))\n",
    "print('done')"
   ]
  }
 ],
 "metadata": {
  "kernelspec": {
   "display_name": "Python 3",
   "language": "python",
   "name": "python3"
  },
  "language_info": {
   "codemirror_mode": {
    "name": "ipython",
    "version": 3
   },
   "file_extension": ".py",
   "mimetype": "text/x-python",
   "name": "python",
   "nbconvert_exporter": "python",
   "pygments_lexer": "ipython3",
   "version": "3.6.0"
  }
 },
 "nbformat": 4,
 "nbformat_minor": 2
}
